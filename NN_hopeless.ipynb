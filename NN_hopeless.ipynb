{
 "cells": [
  {
   "cell_type": "code",
   "execution_count": 458,
   "metadata": {},
   "outputs": [],
   "source": [
    "import numpy as np\n",
    "import pandas as pd\n",
    "import matplotlib.pyplot as plt\n",
    "import seaborn as sb\n",
    "# from pylab import rcParams\n",
    "\n",
    "from scipy.stats import (pearsonr, spearmanr, kendalltau)\n",
    "\n",
    "sb.set_style('darkgrid')\n",
    "# rcParams['figure.figsize'] = 8,8\n",
    "import warnings\n",
    "warnings.filterwarnings(\"ignore\")\n",
    "%matplotlib inline\n",
    "\n",
    "DEBUG = False"
   ]
  },
  {
   "cell_type": "code",
   "execution_count": 459,
   "metadata": {},
   "outputs": [],
   "source": [
    "np.random.seed(12321)\n",
    "source = pd.read_csv(\"train.csv\").sample(frac=1).reset_index(drop=True)\n",
    "source if DEBUG else None"
   ]
  },
  {
   "cell_type": "code",
   "execution_count": 460,
   "metadata": {},
   "outputs": [],
   "source": [
    "if DEBUG:\n",
    "    n_bins = 30\n",
    "    for column in source.columns:\n",
    "        plt.hist(source[column], n_bins)\n",
    "        plt.title(column)\n",
    "        plt.show()"
   ]
  },
  {
   "cell_type": "code",
   "execution_count": 461,
   "metadata": {},
   "outputs": [],
   "source": [
    "def fill_na_values(df, column):\n",
    "    avg = df[column].mean()\n",
    "    std = df[column].std()\n",
    "    df[column].fillna(np.random.normal(avg, std), inplace=True)"
   ]
  },
  {
   "cell_type": "code",
   "execution_count": 462,
   "metadata": {},
   "outputs": [],
   "source": [
    "for column in source.columns:\n",
    "    if source[column].dtype != object:\n",
    "        fill_na_values(source, column)"
   ]
  },
  {
   "cell_type": "code",
   "execution_count": 463,
   "metadata": {},
   "outputs": [],
   "source": [
    "def test(dataframe: pd.DataFrame, column1, column2='target'):\n",
    "    ok = True\n",
    "    \n",
    "    stat, p = pearsonr(np.array(dataframe.loc[:, column1]).flatten(),\n",
    "                       np.array(dataframe.loc[:, column2]).flatten())\n",
    "    if DEBUG:\n",
    "        print(\"Pearson's\")\n",
    "        print('stat=%.3f, p=%.3f' % (stat, p))\n",
    "    if p > 0.05:\n",
    "        if DEBUG:\n",
    "            print('Probably independent')\n",
    "        ok = False\n",
    "    else:\n",
    "        if DEBUG:\n",
    "            print('Probably dependent')\n",
    "    if DEBUG:\n",
    "        print()\n",
    "\n",
    "    stat, p = spearmanr(np.array(dataframe.loc[:, column1]).flatten(),\n",
    "                        np.array(dataframe.loc[:, column2]).flatten())\n",
    "    if DEBUG:\n",
    "        print(\"Spearman's\")\n",
    "        print('stat=%.3f, p=%.3f' % (stat, p))\n",
    "    if p > 0.05:\n",
    "        if DEBUG:\n",
    "            print('Probably independent')\n",
    "        ok = False\n",
    "    else:\n",
    "        if DEBUG:\n",
    "            print('Probably dependent')\n",
    "    if DEBUG:\n",
    "        print()\n",
    "\n",
    "    stat, p = kendalltau(np.array(dataframe.loc[:, column1]).flatten(),\n",
    "                         np.array(dataframe.loc[:, column2]).flatten())\n",
    "    if DEBUG:\n",
    "        print(\"Kendall's\")\n",
    "        print('stat=%.3f, p=%.3f' % (stat, p))\n",
    "    if p > 0.05:\n",
    "        if DEBUG:\n",
    "            print('Probably independent')\n",
    "        ok = False\n",
    "    else:\n",
    "        if DEBUG:\n",
    "            print('Probably dependent')\n",
    "    if DEBUG:\n",
    "        print()\n",
    "\n",
    "    return ok"
   ]
  },
  {
   "cell_type": "code",
   "execution_count": 464,
   "metadata": {},
   "outputs": [],
   "source": [
    "if DEBUG:\n",
    "    for column in source.columns:\n",
    "        if source.loc[:, column].dtype != object:\n",
    "            print('-'*25)\n",
    "            print(column)\n",
    "            print(test(source, column, \"target\"))\n",
    "    print('-'*25)\n",
    "    print(\"Done\")"
   ]
  },
  {
   "cell_type": "code",
   "execution_count": 465,
   "metadata": {},
   "outputs": [
    {
     "name": "stdout",
     "output_type": "stream",
     "text": [
      "Index(['Id', 'Week', 'V1', 'V2', 'V3', 'V4', 'V5', 'V6', 'V7', 'V8', 'V9',\n",
      "       'V10', 'V11', 'V12', 'V13', 'V14', 'V15', 'V16', 'V17', 'V18', 'V19',\n",
      "       'V20', 'V21', 'V22', 'P1', 'P2', 'P3', 'P4', 'P5', 'P6', 'P7', 'P8',\n",
      "       'P9', 'P10', 'P11', 'P12', 'P13', 'P14', 'P15', 'P16', 'P17', 'P18',\n",
      "       'P19', 'P20', 'P21', 'P22', 'P23', 'P24', 'P25', 'P26', 'P27',\n",
      "       'target'],\n",
      "      dtype='object')\n",
      "52\n"
     ]
    }
   ],
   "source": [
    "dependent_columns = source.columns # np.array([column for column in source.columns if test(source, column, \"target\")])\n",
    "# if DEBUG:\n",
    "print(dependent_columns)\n",
    "print(len(dependent_columns))"
   ]
  },
  {
   "cell_type": "code",
   "execution_count": 466,
   "metadata": {},
   "outputs": [],
   "source": [
    "from sklearn.model_selection import train_test_split\n",
    "from sklearn.metrics import accuracy_score, confusion_matrix, recall_score, f1_score, roc_auc_score\n",
    "from sklearn.preprocessing import StandardScaler\n",
    "from sklearn.ensemble import RandomForestClassifier"
   ]
  },
  {
   "cell_type": "code",
   "execution_count": 467,
   "metadata": {},
   "outputs": [
    {
     "data": {
      "text/plain": [
       "set()"
      ]
     },
     "execution_count": 467,
     "metadata": {},
     "output_type": "execute_result"
    }
   ],
   "source": [
    "independent_columns = set(source.columns).difference(dependent_columns)\n",
    "independent_columns"
   ]
  },
  {
   "cell_type": "code",
   "execution_count": 468,
   "metadata": {},
   "outputs": [
    {
     "name": "stdout",
     "output_type": "stream",
     "text": [
      "Index(['Week', 'V1', 'V2', 'V3', 'V4', 'V5', 'V6', 'V7', 'V8', 'V9', 'V10',\n",
      "       'V11', 'V12', 'V13', 'V14', 'V15', 'V16', 'V17', 'V18', 'V19', 'V20',\n",
      "       'V21', 'V22', 'P1', 'P2', 'P3', 'P4', 'P5', 'P6', 'P7', 'P8', 'P9',\n",
      "       'P10', 'P11', 'P12', 'P13', 'P14', 'P15', 'P16', 'P17', 'P18', 'P19',\n",
      "       'P20', 'P21', 'P22', 'P23', 'P24', 'P25', 'P26', 'P27'],\n",
      "      dtype='object')\n"
     ]
    }
   ],
   "source": [
    "train, test = source[:int(0.9 * len(source))], source[int(0.9 * len(source)):]\n",
    "y = train['target']\n",
    "x = train.drop(columns=[*independent_columns, 'Id', 'target'], axis=1)#you will use this for predicting and submitting the resulting\n",
    "test_y = test['target']\n",
    "test = test.drop(columns=[*independent_columns, 'Id', 'target'], axis=1)\n",
    "print(x.columns)\n",
    "if DEBUG:\n",
    "    print(x.shape)\n",
    "    print(y.shape)\n",
    "    print(test.shape)"
   ]
  },
  {
   "cell_type": "code",
   "execution_count": 469,
   "metadata": {},
   "outputs": [],
   "source": [
    "# X_train, X_test, y_train, y_test = train_test_split(x, y,\n",
    "#                                                     test_size=0.2,\n",
    "#                                                     random_state=1)\n",
    "# if DEBUG:\n",
    "#     print(X_train.shape)\n",
    "#     print(y_train.shape)\n",
    "    \n",
    "#     print(X_test.shape)\n",
    "#     print(y_test.shape)"
   ]
  },
  {
   "cell_type": "code",
   "execution_count": 470,
   "metadata": {},
   "outputs": [],
   "source": [
    "# X_train, X_val, y_train, y_val = train_test_split(X_train, y_train,\n",
    "#                                                   test_size=0.5,\n",
    "#                                                   random_state=1)"
   ]
  },
  {
   "cell_type": "code",
   "execution_count": 471,
   "metadata": {},
   "outputs": [],
   "source": [
    "# if DEBUG:\n",
    "#     print(\"train\")\n",
    "#     print(X_train.shape)\n",
    "#     print(y_train.shape)\n",
    "#     print(\"-\" * 25)\n",
    "#     print(\"test\")\n",
    "#     print(X_test.shape)\n",
    "#     print(y_test.shape)\n",
    "#     print(\"-\" * 25)\n",
    "#     print(\"validation\")\n",
    "#     print(X_val.shape)\n",
    "#     print(y_val.shape)"
   ]
  },
  {
   "cell_type": "code",
   "execution_count": 472,
   "metadata": {},
   "outputs": [],
   "source": [
    "num_cols = list(set(dependent_columns).difference(['Id', 'target']))\n",
    "num_cols if DEBUG else None"
   ]
  },
  {
   "cell_type": "code",
   "execution_count": 473,
   "metadata": {},
   "outputs": [],
   "source": [
    "scaler = StandardScaler()"
   ]
  },
  {
   "cell_type": "code",
   "execution_count": 474,
   "metadata": {},
   "outputs": [],
   "source": [
    "x[num_cols] = scaler.fit_transform(x[num_cols])\n",
    "x.head() if DEBUG else None"
   ]
  },
  {
   "cell_type": "code",
   "execution_count": 475,
   "metadata": {},
   "outputs": [],
   "source": [
    "# X_test[num_cols] = scaler.transform(X_test[num_cols])\n",
    "# X_test.head() if DEBUG else None"
   ]
  },
  {
   "cell_type": "code",
   "execution_count": 476,
   "metadata": {},
   "outputs": [],
   "source": [
    "# test[num_cols] = scaler.transform(test[num_cols])\n",
    "# test.head() if DEBUG else None"
   ]
  },
  {
   "cell_type": "code",
   "execution_count": 477,
   "metadata": {},
   "outputs": [],
   "source": [
    "# X_val[num_cols] = scaler.transform(X_val[num_cols])\n",
    "# X_val.head() if DEBUG else None"
   ]
  },
  {
   "cell_type": "code",
   "execution_count": 478,
   "metadata": {},
   "outputs": [],
   "source": [
    "# rand = RandomForestClassifier(bootstrap=True,\n",
    "#                               criterion=\"gini\",\n",
    "#                               n_jobs=-1,\n",
    "#                               max_depth=7,\n",
    "#                               n_estimators=200,\n",
    "#                               random_state=1,\n",
    "#                               verbose=True)"
   ]
  },
  {
   "cell_type": "code",
   "execution_count": 479,
   "metadata": {},
   "outputs": [],
   "source": [
    "# randmodel = rand.fit(X_train,y_train)"
   ]
  },
  {
   "cell_type": "code",
   "execution_count": 480,
   "metadata": {},
   "outputs": [],
   "source": [
    "# randpred = randmodel.predict(test)"
   ]
  },
  {
   "cell_type": "code",
   "execution_count": 481,
   "metadata": {},
   "outputs": [],
   "source": [
    "# print(\"Accuracy\")\n",
    "# accuracy_score(test_y, randpred)"
   ]
  },
  {
   "cell_type": "code",
   "execution_count": 482,
   "metadata": {},
   "outputs": [],
   "source": [
    "# print(\"Recall\")\n",
    "# recall_score(test_y, randpred)"
   ]
  },
  {
   "cell_type": "code",
   "execution_count": 483,
   "metadata": {},
   "outputs": [],
   "source": [
    "# print(\"F1 Score\")\n",
    "# f1_score(test_y, randpred)"
   ]
  },
  {
   "cell_type": "code",
   "execution_count": 484,
   "metadata": {},
   "outputs": [],
   "source": [
    "# print(\"ROC score\")\n",
    "# roc_auc_score(test_y, randpred)"
   ]
  },
  {
   "cell_type": "code",
   "execution_count": 485,
   "metadata": {},
   "outputs": [],
   "source": [
    "# confusion_matrix(test_y, randpred)"
   ]
  },
  {
   "cell_type": "code",
   "execution_count": 486,
   "metadata": {},
   "outputs": [],
   "source": [
    "# type(randpred)"
   ]
  },
  {
   "cell_type": "code",
   "execution_count": 487,
   "metadata": {},
   "outputs": [],
   "source": [
    "# n_bins = 30\n",
    "# plt.hist(randpred, n_bins)\n",
    "# plt.show()"
   ]
  },
  {
   "cell_type": "code",
   "execution_count": 488,
   "metadata": {},
   "outputs": [],
   "source": [
    "# X_train.columns"
   ]
  },
  {
   "cell_type": "code",
   "execution_count": 489,
   "metadata": {},
   "outputs": [
    {
     "data": {
      "text/plain": [
       "Index(['Week', 'V1', 'V2', 'V3', 'V4', 'V5', 'V6', 'V7', 'V8', 'V9', 'V10',\n",
       "       'V11', 'V12', 'V13', 'V14', 'V15', 'V16', 'V17', 'V18', 'V19', 'V20',\n",
       "       'V21', 'V22', 'P1', 'P2', 'P3', 'P4', 'P5', 'P6', 'P7', 'P8', 'P9',\n",
       "       'P10', 'P11', 'P12', 'P13', 'P14', 'P15', 'P16', 'P17', 'P18', 'P19',\n",
       "       'P20', 'P21', 'P22', 'P23', 'P24', 'P25', 'P26', 'P27'],\n",
       "      dtype='object')"
      ]
     },
     "execution_count": 489,
     "metadata": {},
     "output_type": "execute_result"
    }
   ],
   "source": [
    "x.columns"
   ]
  },
  {
   "cell_type": "code",
   "execution_count": 492,
   "metadata": {},
   "outputs": [],
   "source": [
    "# x = submit.drop(columns=independent_columns, axis=1)"
   ]
  },
  {
   "cell_type": "code",
   "execution_count": 493,
   "metadata": {},
   "outputs": [],
   "source": [
    "# randpred = randmodel.predict(x)"
   ]
  },
  {
   "cell_type": "code",
   "execution_count": 494,
   "metadata": {},
   "outputs": [],
   "source": [
    "# n_bins = 30\n",
    "# plt.hist(randpred, n_bins)\n",
    "# plt.show()"
   ]
  },
  {
   "cell_type": "code",
   "execution_count": 495,
   "metadata": {},
   "outputs": [],
   "source": [
    "import tensorflow as tf"
   ]
  },
  {
   "cell_type": "code",
   "execution_count": 623,
   "metadata": {},
   "outputs": [],
   "source": [
    "model = tf.keras.Sequential(\n",
    "    [\n",
    "        tf.keras.layers.Dense(150, activation='relu'),\n",
    "        tf.keras.layers.Dropout(0.4),\n",
    "        tf.keras.layers.Dense(100, activation='relu'),\n",
    "        tf.keras.layers.Dropout(0.3),\n",
    "        tf.keras.layers.Dense(100, activation='relu'),\n",
    "        tf.keras.layers.Dropout(0.2),\n",
    "        tf.keras.layers.Dense(50, activation='relu'),\n",
    "        tf.keras.layers.Dropout(0.1),\n",
    "        tf.keras.layers.Dense(1, activation='sigmoid')\n",
    "    ]\n",
    ")"
   ]
  },
  {
   "cell_type": "code",
   "execution_count": 624,
   "metadata": {},
   "outputs": [],
   "source": [
    "model.compile(loss='binary_crossentropy', optimizer='adam', metrics=['AUC'])"
   ]
  },
  {
   "cell_type": "code",
   "execution_count": 625,
   "metadata": {},
   "outputs": [
    {
     "data": {
      "text/plain": [
       "array([-1.,  1.,  1., ..., -1., -1.,  1.])"
      ]
     },
     "execution_count": 625,
     "metadata": {},
     "output_type": "execute_result"
    }
   ],
   "source": [
    "y.to_numpy()*2 - 1\n"
   ]
  },
  {
   "cell_type": "code",
   "execution_count": 626,
   "metadata": {},
   "outputs": [
    {
     "name": "stdout",
     "output_type": "stream",
     "text": [
      "Epoch 1/40\n",
      "868/868 [==============================] - 6s 5ms/step - loss: 0.3420 - auc: 0.8461\n",
      "Epoch 2/40\n",
      "868/868 [==============================] - 5s 5ms/step - loss: 0.3034 - auc: 0.8837\n",
      "Epoch 3/40\n",
      "868/868 [==============================] - 5s 5ms/step - loss: 0.2940 - auc: 0.8923\n",
      "Epoch 4/40\n",
      "868/868 [==============================] - 5s 6ms/step - loss: 0.2881 - auc: 0.8971\n",
      "Epoch 5/40\n",
      "868/868 [==============================] - 5s 5ms/step - loss: 0.2848 - auc: 0.9024\n",
      "Epoch 6/40\n",
      "868/868 [==============================] - 6s 7ms/step - loss: 0.2811 - auc: 0.9043\n",
      "Epoch 7/40\n",
      "868/868 [==============================] - 5s 6ms/step - loss: 0.2745 - auc: 0.9078\n",
      "Epoch 8/40\n",
      "868/868 [==============================] - 3s 4ms/step - loss: 0.2729 - auc: 0.9099\n",
      "Epoch 9/40\n",
      "868/868 [==============================] - 3s 3ms/step - loss: 0.2729 - auc: 0.9093\n",
      "Epoch 10/40\n",
      "868/868 [==============================] - 3s 3ms/step - loss: 0.2686 - auc: 0.9123\n",
      "Epoch 11/40\n",
      "868/868 [==============================] - 3s 4ms/step - loss: 0.2656 - auc: 0.9145\n",
      "Epoch 12/40\n",
      "868/868 [==============================] - 3s 4ms/step - loss: 0.2649 - auc: 0.9158\n",
      "Epoch 13/40\n",
      "868/868 [==============================] - 4s 5ms/step - loss: 0.2629 - auc: 0.9167\n",
      "Epoch 14/40\n",
      "868/868 [==============================] - 5s 5ms/step - loss: 0.2605 - auc: 0.9187\n",
      "Epoch 15/40\n",
      "868/868 [==============================] - 5s 6ms/step - loss: 0.2603 - auc: 0.9189\n",
      "Epoch 16/40\n",
      "868/868 [==============================] - 5s 6ms/step - loss: 0.2581 - auc: 0.9200\n",
      "Epoch 17/40\n",
      "868/868 [==============================] - 5s 5ms/step - loss: 0.2567 - auc: 0.9218\n",
      "Epoch 18/40\n",
      "868/868 [==============================] - 3s 3ms/step - loss: 0.2563 - auc: 0.9217\n",
      "Epoch 19/40\n",
      "868/868 [==============================] - 4s 5ms/step - loss: 0.2526 - auc: 0.9247\n",
      "Epoch 20/40\n",
      "868/868 [==============================] - 6s 7ms/step - loss: 0.2505 - auc: 0.9258\n",
      "Epoch 21/40\n",
      "868/868 [==============================] - 5s 6ms/step - loss: 0.2516 - auc: 0.9242\n",
      "Epoch 22/40\n",
      "868/868 [==============================] - 5s 6ms/step - loss: 0.2481 - auc: 0.9263\n",
      "Epoch 23/40\n",
      "868/868 [==============================] - 4s 5ms/step - loss: 0.2477 - auc: 0.9264\n",
      "Epoch 24/40\n",
      "868/868 [==============================] - 4s 5ms/step - loss: 0.2458 - auc: 0.9280\n",
      "Epoch 25/40\n",
      "868/868 [==============================] - 4s 5ms/step - loss: 0.2462 - auc: 0.9274\n",
      "Epoch 26/40\n",
      "868/868 [==============================] - 6s 6ms/step - loss: 0.2433 - auc: 0.9299\n",
      "Epoch 27/40\n",
      "868/868 [==============================] - 6s 7ms/step - loss: 0.2408 - auc: 0.9313\n",
      "Epoch 28/40\n",
      "868/868 [==============================] - 5s 6ms/step - loss: 0.2412 - auc: 0.9311\n",
      "Epoch 29/40\n",
      "868/868 [==============================] - 6s 7ms/step - loss: 0.2433 - auc: 0.9308\n",
      "Epoch 30/40\n",
      "868/868 [==============================] - 9s 10ms/step - loss: 0.2363 - auc: 0.9339\n",
      "Epoch 31/40\n",
      "868/868 [==============================] - 7s 8ms/step - loss: 0.2399 - auc: 0.9324\n",
      "Epoch 32/40\n",
      "868/868 [==============================] - 7s 9ms/step - loss: 0.2390 - auc: 0.9319\n",
      "Epoch 33/40\n",
      "868/868 [==============================] - 9s 10ms/step - loss: 0.2359 - auc: 0.9340\n",
      "Epoch 34/40\n",
      "868/868 [==============================] - 7s 8ms/step - loss: 0.2356 - auc: 0.9337\n",
      "Epoch 35/40\n",
      "868/868 [==============================] - 6s 7ms/step - loss: 0.2333 - auc: 0.9357\n",
      "Epoch 36/40\n",
      "868/868 [==============================] - 7s 8ms/step - loss: 0.2328 - auc: 0.9354\n",
      "Epoch 37/40\n",
      "868/868 [==============================] - 5s 6ms/step - loss: 0.2300 - auc: 0.9378\n",
      "Epoch 38/40\n",
      "868/868 [==============================] - 5s 6ms/step - loss: 0.2303 - auc: 0.9381\n",
      "Epoch 39/40\n",
      "868/868 [==============================] - 5s 6ms/step - loss: 0.2325 - auc: 0.9380\n",
      "Epoch 40/40\n",
      "868/868 [==============================] - 5s 6ms/step - loss: 0.2264 - auc: 0.9392\n"
     ]
    },
    {
     "data": {
      "text/plain": [
       "<keras.callbacks.History at 0x2fd411df748>"
      ]
     },
     "execution_count": 626,
     "metadata": {},
     "output_type": "execute_result"
    }
   ],
   "source": [
    "model.fit(x, y, epochs=40, batch_size=32)"
   ]
  },
  {
   "cell_type": "code",
   "execution_count": 627,
   "metadata": {},
   "outputs": [],
   "source": [
    "submit = pd.read_csv(\"test.csv\")"
   ]
  },
  {
   "cell_type": "code",
   "execution_count": 628,
   "metadata": {},
   "outputs": [],
   "source": [
    "for column in submit.columns:\n",
    "    if submit[column].dtype != object:\n",
    "        fill_na_values(submit, column)"
   ]
  },
  {
   "cell_type": "code",
   "execution_count": 629,
   "metadata": {},
   "outputs": [],
   "source": [
    "submit[num_cols] = scaler.transform(submit[num_cols])"
   ]
  },
  {
   "cell_type": "code",
   "execution_count": 630,
   "metadata": {},
   "outputs": [],
   "source": [
    "sub_pred = model.predict(submit.drop('Id', axis=1))"
   ]
  },
  {
   "cell_type": "code",
   "execution_count": 632,
   "metadata": {},
   "outputs": [
    {
     "ename": "ValueError",
     "evalue": "The truth value of an array with more than one element is ambiguous. Use a.any() or a.all()",
     "output_type": "error",
     "traceback": [
      "\u001b[1;31m---------------------------------------------------------------------------\u001b[0m",
      "\u001b[1;31mValueError\u001b[0m                                Traceback (most recent call last)",
      "\u001b[1;32m~\\AppData\\Local\\Temp/ipykernel_30500/3742240923.py\u001b[0m in \u001b[0;36m<module>\u001b[1;34m\u001b[0m\n\u001b[0;32m      1\u001b[0m \u001b[0msubmit_result\u001b[0m \u001b[1;33m=\u001b[0m \u001b[0msubmit\u001b[0m\u001b[1;33m[\u001b[0m\u001b[1;33m[\u001b[0m\u001b[1;34m'Id'\u001b[0m\u001b[1;33m]\u001b[0m\u001b[1;33m]\u001b[0m\u001b[1;33m\u001b[0m\u001b[1;33m\u001b[0m\u001b[0m\n\u001b[1;32m----> 2\u001b[1;33m \u001b[0msubmit_result\u001b[0m\u001b[1;33m[\u001b[0m\u001b[1;34m'Predicted'\u001b[0m\u001b[1;33m]\u001b[0m \u001b[1;33m=\u001b[0m \u001b[1;36m1\u001b[0m \u001b[1;32mif\u001b[0m \u001b[0msub_pred\u001b[0m \u001b[1;33m>\u001b[0m \u001b[1;36m0.2\u001b[0m \u001b[1;32melse\u001b[0m \u001b[1;36m0\u001b[0m\u001b[1;33m\u001b[0m\u001b[1;33m\u001b[0m\u001b[0m\n\u001b[0m\u001b[0;32m      3\u001b[0m \u001b[0mprint\u001b[0m\u001b[1;33m(\u001b[0m\u001b[0msubmit_result\u001b[0m\u001b[1;33m)\u001b[0m\u001b[1;33m\u001b[0m\u001b[1;33m\u001b[0m\u001b[0m\n",
      "\u001b[1;31mValueError\u001b[0m: The truth value of an array with more than one element is ambiguous. Use a.any() or a.all()"
     ]
    }
   ],
   "source": [
    "submit_result = submit[['Id']]\n",
    "submit_result['Predicted'] = 1 if sub_pred > 0.2 else 0\n",
    "print(submit_result)"
   ]
  },
  {
   "cell_type": "code",
   "execution_count": null,
   "metadata": {},
   "outputs": [
    {
     "data": {
      "text/plain": [
       "array([[<AxesSubplot:title={'center':'Predicted'}>]], dtype=object)"
      ]
     },
     "execution_count": 606,
     "metadata": {},
     "output_type": "execute_result"
    },
    {
     "data": {
      "image/png": "[encoded data removed]",
      "text/plain": [
       "<Figure size 432x288 with 1 Axes>"
      ]
     },
     "metadata": {
      "needs_background": "light"
     },
     "output_type": "display_data"
    }
   ],
   "source": [
    "submit_result.hist('Predicted')"
   ]
  },
  {
   "cell_type": "code",
   "execution_count": null,
   "metadata": {},
   "outputs": [
    {
     "data": {
      "text/html": [
       "<div>\n",
       "<style scoped>\n",
       "    .dataframe tbody tr th:only-of-type {\n",
       "        vertical-align: middle;\n",
       "    }\n",
       "\n",
       "    .dataframe tbody tr th {\n",
       "        vertical-align: top;\n",
       "    }\n",
       "\n",
       "    .dataframe thead th {\n",
       "        text-align: right;\n",
       "    }\n",
       "</style>\n",
       "<table border=\"1\" class=\"dataframe\">\n",
       "  <thead>\n",
       "    <tr style=\"text-align: right;\">\n",
       "      <th></th>\n",
       "      <th>Id</th>\n",
       "      <th>Predicted</th>\n",
       "    </tr>\n",
       "  </thead>\n",
       "  <tbody>\n",
       "    <tr>\n",
       "      <th>0</th>\n",
       "      <td>6107424960806386948</td>\n",
       "      <td>0</td>\n",
       "    </tr>\n",
       "    <tr>\n",
       "      <th>1</th>\n",
       "      <td>-1808613790090531322</td>\n",
       "      <td>0</td>\n",
       "    </tr>\n",
       "    <tr>\n",
       "      <th>2</th>\n",
       "      <td>-2649749947427248381</td>\n",
       "      <td>1</td>\n",
       "    </tr>\n",
       "    <tr>\n",
       "      <th>3</th>\n",
       "      <td>4684257435812939224</td>\n",
       "      <td>1</td>\n",
       "    </tr>\n",
       "    <tr>\n",
       "      <th>4</th>\n",
       "      <td>-7030158396775705152</td>\n",
       "      <td>0</td>\n",
       "    </tr>\n",
       "    <tr>\n",
       "      <th>...</th>\n",
       "      <td>...</td>\n",
       "      <td>...</td>\n",
       "    </tr>\n",
       "    <tr>\n",
       "      <th>3302</th>\n",
       "      <td>-2211304808281344572</td>\n",
       "      <td>0</td>\n",
       "    </tr>\n",
       "    <tr>\n",
       "      <th>3303</th>\n",
       "      <td>6416554621804862174</td>\n",
       "      <td>0</td>\n",
       "    </tr>\n",
       "    <tr>\n",
       "      <th>3304</th>\n",
       "      <td>-2318403417965670905</td>\n",
       "      <td>0</td>\n",
       "    </tr>\n",
       "    <tr>\n",
       "      <th>3305</th>\n",
       "      <td>-8008599329977273072</td>\n",
       "      <td>0</td>\n",
       "    </tr>\n",
       "    <tr>\n",
       "      <th>3306</th>\n",
       "      <td>214704124864576365</td>\n",
       "      <td>1</td>\n",
       "    </tr>\n",
       "  </tbody>\n",
       "</table>\n",
       "<p>3307 rows × 2 columns</p>\n",
       "</div>"
      ],
      "text/plain": [
       "                       Id  Predicted\n",
       "0     6107424960806386948          0\n",
       "1    -1808613790090531322          0\n",
       "2    -2649749947427248381          1\n",
       "3     4684257435812939224          1\n",
       "4    -7030158396775705152          0\n",
       "...                   ...        ...\n",
       "3302 -2211304808281344572          0\n",
       "3303  6416554621804862174          0\n",
       "3304 -2318403417965670905          0\n",
       "3305 -8008599329977273072          0\n",
       "3306   214704124864576365          1\n",
       "\n",
       "[3307 rows x 2 columns]"
      ]
     },
     "execution_count": 611,
     "metadata": {},
     "output_type": "execute_result"
    }
   ],
   "source": [
    "sub_groupped = submit_result.groupby('Id', as_index=False, sort=False).agg(lambda x: 1 if x.mean() > 0.25 else 0)\n",
    "sub_groupped"
   ]
  },
  {
   "cell_type": "code",
   "execution_count": null,
   "metadata": {},
   "outputs": [],
   "source": [
    "# sub_groupped['Predicted'].apply(lambda s: print(type(s)))"
   ]
  },
  {
   "cell_type": "code",
   "execution_count": null,
   "metadata": {},
   "outputs": [
    {
     "data": {
      "text/plain": [
       "array([[<AxesSubplot:title={'center':'Predicted'}>]], dtype=object)"
      ]
     },
     "execution_count": 612,
     "metadata": {},
     "output_type": "execute_result"
    },
    {
     "data": {
      "image/png": "[encoded data removed]",
      "text/plain": [
       "<Figure size 432x288 with 1 Axes>"
      ]
     },
     "metadata": {
      "needs_background": "light"
     },
     "output_type": "display_data"
    }
   ],
   "source": [
    "sub_groupped.hist('Predicted')"
   ]
  },
  {
   "cell_type": "code",
   "execution_count": null,
   "metadata": {},
   "outputs": [],
   "source": [
    "sub_groupped.to_csv('Submit.csv', index=False)"
   ]
  }
 ],
 "metadata": {
  "interpreter": {
   "hash": "05ee0453818f12fb33f4cd0fa09197301eeabf4d1e1f383dce2af7e1c3ed2f14"
  },
  "kernelspec": {
   "display_name": "Python 3.7.9 64-bit",
   "language": "python",
   "name": "python3"
  },
  "language_info": {
   "codemirror_mode": {
    "name": "ipython",
    "version": 3
   },
   "file_extension": ".py",
   "mimetype": "text/x-python",
   "name": "python",
   "nbconvert_exporter": "python",
   "pygments_lexer": "ipython3",
   "version": "3.7.9"
  },
  "orig_nbformat": 4
 },
 "nbformat": 4,
 "nbformat_minor": 2
}
